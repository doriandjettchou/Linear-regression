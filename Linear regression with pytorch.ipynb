{
  "nbformat": 4,
  "nbformat_minor": 0,
  "metadata": {
    "colab": {
      "name": "Untitled5.ipynb",
      "provenance": [],
      "collapsed_sections": []
    },
    "kernelspec": {
      "name": "python3",
      "display_name": "Python 3"
    }
  },
  "cells": [
    {
      "cell_type": "code",
      "metadata": {
        "id": "G9kplCDFw6SM"
      },
      "source": [
        "import pandas as pd\n",
        "import numpy as np\n",
        "import torch\n",
        "import math\n",
        "from functools import partial\n",
        "import matplotlib.pyplot as plt\n"
      ],
      "execution_count": 50,
      "outputs": []
    },
    {
      "cell_type": "code",
      "metadata": {
        "id": "fRQ2M8-Ow_md",
        "outputId": "47713551-d8ea-4d8c-af6f-daff073bef3b",
        "colab": {
          "base_uri": "https://localhost:8080/",
          "height": 265
        }
      },
      "source": [
        "x = torch.rand(300)\n",
        "y = 3 * x + 2 + (torch.randn(300) * 0.05)\n",
        "plt.scatter(x, y)\n",
        "plt.show()"
      ],
      "execution_count": 51,
      "outputs": [
        {
          "output_type": "display_data",
          "data": {
            "image/png": "[encoded data removed]",
            "text/plain": [
              "<Figure size 432x288 with 1 Axes>"
            ]
          },
          "metadata": {
            "tags": [],
            "needs_background": "light"
          }
        }
      ]
    },
    {
      "cell_type": "code",
      "metadata": {
        "id": "RxGwmeZHxNSt",
        "outputId": "d85a2048-8fe0-490e-cfb3-c468a8e648a9",
        "colab": {
          "base_uri": "https://localhost:8080/",
          "height": 68
        }
      },
      "source": [
        "#définition des paramètres avec pytorch\n",
        "a = torch.nn.Parameter(torch.tensor(1.))\n",
        "b = torch.nn.Parameter(torch.tensor(1.))\n",
        "print(a, b)"
      ],
      "execution_count": 52,
      "outputs": [
        {
          "output_type": "stream",
          "text": [
            "Parameter containing:\n",
            "tensor(1., requires_grad=True) Parameter containing:\n",
            "tensor(1., requires_grad=True)\n"
          ],
          "name": "stdout"
        }
      ]
    },
    {
      "cell_type": "code",
      "metadata": {
        "id": "sHg515FFxiIi"
      },
      "source": [
        ""
      ],
      "execution_count": null,
      "outputs": []
    },
    {
      "cell_type": "code",
      "metadata": {
        "id": "IZ9s0Ri_xRF-",
        "outputId": "787a91f3-c784-4190-c62a-3ef5af1771e4",
        "colab": {
          "base_uri": "https://localhost:8080/",
          "height": 282
        }
      },
      "source": [
        "y_pred = (a * x + b).detach().numpy()\n",
        "plt.scatter(x, y)\n",
        "plt.plot(x, y_pred)"
      ],
      "execution_count": 53,
      "outputs": [
        {
          "output_type": "execute_result",
          "data": {
            "text/plain": [
              "[<matplotlib.lines.Line2D at 0x7f0088c730b8>]"
            ]
          },
          "metadata": {
            "tags": []
          },
          "execution_count": 53
        },
        {
          "output_type": "display_data",
          "data": {
            "image/png": "[encoded data removed]",
            "text/plain": [
              "<Figure size 432x288 with 1 Axes>"
            ]
          },
          "metadata": {
            "tags": [],
            "needs_background": "light"
          }
        }
      ]
    },
    {
      "cell_type": "code",
      "metadata": {
        "id": "Ck6bh83pyHK6",
        "outputId": "b2a82cd2-128b-4e4e-da01-469acec90192",
        "colab": {
          "base_uri": "https://localhost:8080/",
          "height": 357
        }
      },
      "source": [
        "#application de la mèthode de gradiants\n",
        "a = torch.nn.Parameter(torch.tensor(1.))\n",
        "b = torch.nn.Parameter(torch.tensor(1.))\n",
        "n_epochs=20000\n",
        "lr=0.001 #learning rate \n",
        "for epoch in range(n_epochs):\n",
        "  #calcul de la prediction\n",
        "  y_pred= a *x +b\n",
        "  mse=((y-y_pred)**2).mean()\n",
        "  if epoch %1000 ==0:\n",
        "    print(mse)\n",
        "  mse.backward() #me permet de remplir automatiquement dans a et b les attributs grad\n",
        "\n",
        "  #descente de grandient\n",
        "  with torch.no_grad():\n",
        "    a-= a.grad*lr\n",
        "    b-= b.grad*lr\n",
        "\n",
        "    a.grad.zero_() #on initialise pour éviter le cumul à chaque itération\n",
        "    b.grad.zero_()\n",
        "  "
      ],
      "execution_count": 54,
      "outputs": [
        {
          "output_type": "stream",
          "text": [
            "tensor(4.2386, grad_fn=<MeanBackward0>)\n",
            "tensor(0.1148, grad_fn=<MeanBackward0>)\n",
            "tensor(0.0684, grad_fn=<MeanBackward0>)\n",
            "tensor(0.0532, grad_fn=<MeanBackward0>)\n",
            "tensor(0.0416, grad_fn=<MeanBackward0>)\n",
            "tensor(0.0326, grad_fn=<MeanBackward0>)\n",
            "tensor(0.0257, grad_fn=<MeanBackward0>)\n",
            "tensor(0.0203, grad_fn=<MeanBackward0>)\n",
            "tensor(0.0162, grad_fn=<MeanBackward0>)\n",
            "tensor(0.0130, grad_fn=<MeanBackward0>)\n",
            "tensor(0.0105, grad_fn=<MeanBackward0>)\n",
            "tensor(0.0086, grad_fn=<MeanBackward0>)\n",
            "tensor(0.0072, grad_fn=<MeanBackward0>)\n",
            "tensor(0.0061, grad_fn=<MeanBackward0>)\n",
            "tensor(0.0052, grad_fn=<MeanBackward0>)\n",
            "tensor(0.0045, grad_fn=<MeanBackward0>)\n",
            "tensor(0.0040, grad_fn=<MeanBackward0>)\n",
            "tensor(0.0036, grad_fn=<MeanBackward0>)\n",
            "tensor(0.0033, grad_fn=<MeanBackward0>)\n",
            "tensor(0.0030, grad_fn=<MeanBackward0>)\n"
          ],
          "name": "stdout"
        }
      ]
    },
    {
      "cell_type": "code",
      "metadata": {
        "id": "7tXbxN8o1ty4",
        "outputId": "d94c755e-b71e-4589-ee84-d0ef5cecfe6a",
        "colab": {
          "base_uri": "https://localhost:8080/",
          "height": 282
        }
      },
      "source": [
        "y_pred= (a *x + b).detach().numpy()\n",
        "plt.scatter(x,y)\n",
        "plt.plot(x,y_pred, color='yellow')\n"
      ],
      "execution_count": 49,
      "outputs": [
        {
          "output_type": "execute_result",
          "data": {
            "text/plain": [
              "[<matplotlib.lines.Line2D at 0x7f0088c89fd0>]"
            ]
          },
          "metadata": {
            "tags": []
          },
          "execution_count": 49
        },
        {
          "output_type": "display_data",
          "data": {
            "image/png": "[encoded data removed]",
            "text/plain": [
              "<Figure size 432x288 with 1 Axes>"
            ]
          },
          "metadata": {
            "tags": [],
            "needs_background": "light"
          }
        }
      ]
    }
  ]
}