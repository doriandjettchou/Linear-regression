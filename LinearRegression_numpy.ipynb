{
  "nbformat": 4,
  "nbformat_minor": 0,
  "metadata": {
    "colab": {
      "name": "Untitled3.ipynb",
      "provenance": []
    },
    "kernelspec": {
      "name": "python3",
      "display_name": "Python 3"
    }
  },
  "cells": [
    {
      "cell_type": "code",
      "metadata": {
        "id": "8NA7qIeG1lhU"
      },
      "source": [
        "import pandas as pd\n",
        "import numpy as np\n",
        "import torch\n",
        "import math\n",
        "from functools import partial\n",
        "import matplotlib.pyplot as plt"
      ],
      "execution_count": 39,
      "outputs": []
    },
    {
      "cell_type": "code",
      "metadata": {
        "id": "cX79O5UyU9gk"
      },
      "source": [
        "x=np.random.rand(300)\n",
        "\n",
        "y=3 *x + 2 + (np.random.randn(300) * 0.05)\n",
        "#plt.scatter(x, y)"
      ],
      "execution_count": 40,
      "outputs": []
    },
    {
      "cell_type": "code",
      "metadata": {
        "id": "1pCQJhUNVcRI",
        "outputId": "42ab01f9-f912-4492-d6ca-5264b478bb2a",
        "colab": {
          "base_uri": "https://localhost:8080/",
          "height": 357
        }
      },
      "source": [
        "#train\n",
        "\n",
        "\n",
        "a=1.\n",
        "b=1.\n",
        "\n",
        "for i in range(2000):\n",
        "  y_hat=a *x + b\n",
        "\n",
        "  #loss\n",
        "  #error= y-y_hat\n",
        "  loss= ((y-y_hat)**2).mean()\n",
        "\n",
        "  if i % 100 ==0:\n",
        "    print(loss)\n",
        "  a_grad= -2 *(y-y_hat).mean()\n",
        "  b_grad= -2 *(x*(y-y_hat)).mean()\n",
        "\n",
        "  \n",
        "  #ajournement des valeurs de a et b\n",
        "  a= a - a_grad *0.001\n",
        "  b-= b_grad *0.001\n",
        " "
      ],
      "execution_count": 41,
      "outputs": [
        {
          "output_type": "stream",
          "text": [
            "4.236309661617628\n",
            "2.782682769611833\n",
            "1.8283317395875884\n",
            "1.2017777268637122\n",
            "0.7904374123899747\n",
            "0.5203949593395908\n",
            "0.34312142033787896\n",
            "0.22675544906624756\n",
            "0.150378707143049\n",
            "0.10025741907640248\n",
            "0.06737478918609298\n",
            "0.04581092571362112\n",
            "0.03167919036867335\n",
            "0.02242786544568969\n",
            "0.016381667860669524\n",
            "0.012440733153876466\n",
            "0.009882985394850292\n",
            "0.008234384443023922\n",
            "0.007183737654260436\n",
            "0.006526770091299764\n"
          ],
          "name": "stdout"
        }
      ]
    },
    {
      "cell_type": "code",
      "metadata": {
        "id": "fS8pu6TeeXnJ",
        "outputId": "e3e3570a-387b-4c4a-83d2-cd016d3b840b",
        "colab": {
          "base_uri": "https://localhost:8080/",
          "height": 282
        }
      },
      "source": [
        "y_new=a *x + b\n",
        "\n",
        "plt.scatter(x,y)\n",
        "plt.plot(x, y_new, color=\"red\")"
      ],
      "execution_count": 42,
      "outputs": [
        {
          "output_type": "execute_result",
          "data": {
            "text/plain": [
              "[<matplotlib.lines.Line2D at 0x7fcabe51e1d0>]"
            ]
          },
          "metadata": {
            "tags": []
          },
          "execution_count": 42
        },
        {
          "output_type": "display_data",
          "data": {
            "image/png": "[encoded data removed]",
            "text/plain": [
              "<Figure size 432x288 with 1 Axes>"
            ]
          },
          "metadata": {
            "tags": [],
            "needs_background": "light"
          }
        }
      ]
    },
    {
      "cell_type": "code",
      "metadata": {
        "id": "73nSqqsJeJ4M"
      },
      "source": [
        ""
      ],
      "execution_count": null,
      "outputs": []
    }
  ]
}